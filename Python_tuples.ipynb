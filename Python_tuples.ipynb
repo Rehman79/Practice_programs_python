{
 "cells": [
  {
   "cell_type": "code",
   "execution_count": 13,
   "id": "65ff1ca5-b710-4938-9182-47d21c5b8d4a",
   "metadata": {},
   "outputs": [
    {
     "name": "stdout",
     "output_type": "stream",
     "text": [
      "Sialkot\n",
      "Karachi\n"
     ]
    }
   ],
   "source": [
    "#•\tDefine a tuple containing the names of five cities. Write code to access the second and last city in the tuple.\n",
    "tuplee=(\"Lahore\",\"Sialkot\",\"Islamabad\",\"Karachi\")\n",
    "print(tuplee[1])\n",
    "print(tuplee[-1])"
   ]
  },
  {
   "cell_type": "code",
   "execution_count": null,
   "id": "7fef7aa0-1a18-48d3-8dd6-c9ca7b2712cb",
   "metadata": {},
   "outputs": [],
   "source": [
    "#•\tExplain the difference between tuples and lists. Why would you use a tuple over a list?\n",
    "#Tuple are immutable while list are mutable\n",
    "#Square brackets are necessary for list []\n",
    "#tuples => ()"
   ]
  },
  {
   "cell_type": "code",
   "execution_count": 26,
   "id": "14c48da4-4f37-419b-aad2-972dd92c39bc",
   "metadata": {},
   "outputs": [
    {
     "name": "stdout",
     "output_type": "stream",
     "text": [
      "('Lahore', 'Sialkot', 'Islamabad', 'Karachi', 'Rehman', 'Rana', 'G')\n",
      "7\n"
     ]
    },
    {
     "data": {
      "text/plain": [
       "tuple"
      ]
     },
     "execution_count": 26,
     "metadata": {},
     "output_type": "execute_result"
    }
   ],
   "source": [
    "#•\tWrite a program to concatenate two tuples and find the length of the resulting tuple.\n",
    "tuplee=(\"Lahore\",\"Sialkot\",\"Islamabad\",\"Karachi\")\n",
    "tuplee1=(\"Rehman\",\"Rana\",\"G\")\n",
    "temp_tuple=tuplee+tuplee1\n",
    "print(temp_tuple)\n",
    "print(len(temp_tuple))\n",
    "type(temp_tuple)"
   ]
  },
  {
   "cell_type": "code",
   "execution_count": 35,
   "id": "e57a0601-1322-4c3d-990b-f07d68f5145f",
   "metadata": {},
   "outputs": [
    {
     "name": "stdout",
     "output_type": "stream",
     "text": [
      "('English', 'Maths', ['Tahir Mushtaq', 'Imran'])\n",
      "3\n"
     ]
    }
   ],
   "source": [
    "#•\tCan a tuple contain a list as an element? Write code to demonstrate this and explain the behavior.\n",
    "#Yes it is possible.\n",
    "tuplee=(\"English\",\"Maths\",[\"Tahir Mushtaq\",\"Imran\"],)\n",
    "print(tuplee)\n",
    "type(tuplee)\n",
    "print(len(tuplee))"
   ]
  },
  {
   "cell_type": "code",
   "execution_count": 44,
   "id": "6435fd39-a0a9-458c-bff0-a832e1c9b8b3",
   "metadata": {},
   "outputs": [
    {
     "name": "stdin",
     "output_type": "stream",
     "text": [
      "Enter a series of 3 numbers (Separated by comma): 2,4,7\n"
     ]
    },
    {
     "name": "stdout",
     "output_type": "stream",
     "text": [
      "Max value is :  7\n",
      "Min value is :  2\n"
     ]
    }
   ],
   "source": [
    "#•\tWrite a Python function that takes a tuple of numbers as input and returns the maximum and minimum values.\n",
    "def max_min(tuplee):\n",
    "  max_val=max(tuplee)\n",
    "  min_val=min(tuplee)\n",
    "  return max_val,min_val\n",
    "inp=input(\"Enter a series of 4 numbers (Separated by comma):\")\n",
    "input_sep=inp.split(\",\")\n",
    "if len(input_sep)==4:\n",
    " try tuplee=tuple(int(i) for i in input_sep)\n",
    "    break\n",
    " except ValueError:\n",
    "  print(\"Please enter valid integers\")\n",
    "else:\n",
    " print(\"Please enter exact 4 integers\")\n",
    "max_value,min_value=max_min(tuplee)\n",
    "print(\"Max value is : \", max_value)\n",
    "print(\"Min value is : \", min_value)"
   ]
  },
  {
   "cell_type": "code",
   "execution_count": null,
   "id": "1f1cadea-1e50-4352-825b-5cf37e881639",
   "metadata": {},
   "outputs": [],
   "source": []
  }
 ],
 "metadata": {
  "kernelspec": {
   "display_name": "Python 3 (ipykernel)",
   "language": "python",
   "name": "python3"
  },
  "language_info": {
   "codemirror_mode": {
    "name": "ipython",
    "version": 3
   },
   "file_extension": ".py",
   "mimetype": "text/x-python",
   "name": "python",
   "nbconvert_exporter": "python",
   "pygments_lexer": "ipython3",
   "version": "3.11.7"
  }
 },
 "nbformat": 4,
 "nbformat_minor": 5
}
